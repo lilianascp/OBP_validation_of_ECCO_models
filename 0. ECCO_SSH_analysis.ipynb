{
 "cells": [
  {
   "cell_type": "markdown",
   "id": "3fb87938-0c8f-4dcd-97d4-d326493840e0",
   "metadata": {},
   "source": [
    "## A. Download data "
   ]
  },
  {
   "cell_type": "raw",
   "id": "40a0a784-b975-416b-b0e6-a31fedf32ee5",
   "metadata": {},
   "source": [
    "from ecco_download import *\n",
    "\n",
    "# ECCO_dir specifies parent directory of all ECCOv4r4 downloads\n",
    "# ECCO_dir=None downloads to default path ~/Downloads/ECCO_V4r4_PODAAC/\n",
    "ECCO_dir=None\n",
    "\n",
    "# Download files (granules) \n",
    "curr_shortname = \"ECCO_L4_SSH_05DEG_MONTHLY_V4R4\"\n",
    "ecco_podaac_download(ShortName=curr_shortname,\\\n",
    "                    StartDate=\"1999-01-01\",EndDate=\"2017-12-31\",\\\n",
    "                    download_root_dir=ECCO_dir,n_workers=6,force_redownload=False)\n",
    "curr_shortname_geo = \"ECCO_L4_GEOMETRY_LLC0090GRID_V4R4\"\n",
    "ecco_podaac_download(ShortName=curr_shortname_geo,\\\n",
    "                    StartDate=\"1992-01-01\",EndDate=\"2017-12-31\",\\\n",
    "                    download_root_dir=ECCO_dir,n_workers=6,force_redownload=False)"
   ]
  },
  {
   "cell_type": "markdown",
   "id": "4e661759-45c6-4e9d-b80a-fd47bd479688",
   "metadata": {},
   "source": [
    "## B. Load libraries"
   ]
  },
  {
   "cell_type": "code",
   "execution_count": 1,
   "id": "fbdac298-b1c6-4185-8c7d-b7df60add276",
   "metadata": {},
   "outputs": [],
   "source": [
    "# Importing the numpy library with the alias 'np' for numerical computations\n",
    "import numpy as np\n",
    "\n",
    "# Importing the sys module for system-specific parameters and functions\n",
    "import sys\n",
    "\n",
    "# Importing the xarray library with the alias 'xr' for labeled data analysis\n",
    "import xarray as xr\n",
    "\n",
    "# Importing the deepcopy function from the copy module for creating deep copies of objects\n",
    "from copy import deepcopy\n",
    "\n",
    "# Importing the pyplot module from the matplotlib library for creating data visualizations\n",
    "import matplotlib.pyplot as plt\n",
    "\n",
    "# Activating inline plotting in Jupyter Notebook for displaying plots within the notebook itself\n",
    "%matplotlib inline\n",
    "\n",
    "# Importing the glob module for file path expansion and searching\n",
    "import glob\n",
    "\n",
    "# Importing the warnings module for handling warnings during code execution\n",
    "import warnings\n",
    "\n",
    "# Import os to acess USB driver\n",
    "import os\n",
    "\n",
    "# Ignoring all warnings that may occur during the execution of the code\n",
    "# warnings.filterwarnings('ignore')"
   ]
  },
  {
   "cell_type": "code",
   "execution_count": 2,
   "id": "151e2a5d-a4fa-4d04-bd16-3142236a8fd4",
   "metadata": {},
   "outputs": [],
   "source": [
    "## Import the ecco_v4_py library into Python\n",
    "# Importing specific functions from the os.path module for path manipulations\n",
    "from os.path import join, expanduser\n",
    "\n",
    "# Defining the variable 'user_home_dir' to store the path to the user's home directory\n",
    "user_home_dir = expanduser('~')\n",
    "\n",
    "# Appending the path to the ECCOv4-py library to the list of directories where Python looks for modules\n",
    "sys.path.append(join(user_home_dir, 'ECCOv4-py'))\n",
    "\n",
    "# Importing the ecco_v4_py library and aliasing it as 'ecco' for ease of use\n",
    "import ecco_v4_py as ecco"
   ]
  },
  {
   "cell_type": "markdown",
   "id": "d9d5160b-2a58-467e-881f-009f55db129d",
   "metadata": {},
   "source": [
    "## B. Load model grid"
   ]
  },
  {
   "cell_type": "code",
   "execution_count": 3,
   "id": "9d92fd30-0c63-4f24-a6d1-a3d9e26e3d47",
   "metadata": {},
   "outputs": [],
   "source": [
    "## Set top-level file directory for the ECCO NetCDF files\n",
    "\n",
    "# Specify the path to your USB drive\n",
    "usb_drive_path = \"/Volumes/Liliana\"  # Use the actual name of your USB drive\n",
    "\n",
    "# Define the ECCO_dir using the join function with the USB drive path\n",
    "ECCO_dir = os.path.join(usb_drive_path, 'ECCO_V4r4_PODAAC')\n",
    "\n",
    "# ECCO_dir = join(user_home_dir,'Downloads','ECCO_V4r4_PODAAC')"
   ]
  },
  {
   "cell_type": "code",
   "execution_count": 4,
   "id": "0bd136fd-6582-4a6b-afa9-d977abadd920",
   "metadata": {},
   "outputs": [],
   "source": [
    "# glob.glob is finding files that match a certain pattern in the specified directory (ECCO_dir)\n",
    "# join is joining the file path and the pattern to search for the files\n",
    "# The [0] at the end is selecting the first file from the list of found files\n",
    "# xr.open_dataset is opening the selected file as an xarray dataset, assigning it to the variable ecco_grid\n",
    "ecco_grid = xr.open_dataset(glob.glob(join(ECCO_dir,'*GEOMETRY*','*.nc'))[0])"
   ]
  },
  {
   "cell_type": "code",
   "execution_count": 5,
   "id": "5f1bb5ad-e79c-4d4e-95ad-f1f94d480d0f",
   "metadata": {},
   "outputs": [
    {
     "ename": "ValueError",
     "evalue": "These variables cannot be found in this dataset: ['ETAN']",
     "output_type": "error",
     "traceback": [
      "\u001b[0;31m---------------------------------------------------------------------------\u001b[0m",
      "\u001b[0;31mValueError\u001b[0m                                Traceback (most recent call last)",
      "\u001b[0;32m/var/folders/bn/x1xx5m9j67911yqy0dlhj7qc0000gn/T/ipykernel_67064/1425216187.py\u001b[0m in \u001b[0;36m?\u001b[0;34m()\u001b[0m\n\u001b[1;32m     17\u001b[0m             \u001b[0mds_out\u001b[0m \u001b[0;34m=\u001b[0m \u001b[0mxr\u001b[0m\u001b[0;34m.\u001b[0m\u001b[0mconcat\u001b[0m\u001b[0;34m(\u001b[0m\u001b[0;34m(\u001b[0m\u001b[0mds_out\u001b[0m\u001b[0;34m,\u001b[0m \u001b[0mds_curr\u001b[0m\u001b[0;34m)\u001b[0m\u001b[0;34m,\u001b[0m \u001b[0mdim\u001b[0m\u001b[0;34m=\u001b[0m\u001b[0mdim_concat\u001b[0m\u001b[0;34m)\u001b[0m\u001b[0;34m\u001b[0m\u001b[0;34m\u001b[0m\u001b[0m\n\u001b[1;32m     18\u001b[0m     \u001b[0;32mreturn\u001b[0m \u001b[0mds_out\u001b[0m\u001b[0;34m\u001b[0m\u001b[0;34m\u001b[0m\u001b[0m\n\u001b[1;32m     19\u001b[0m \u001b[0;34m\u001b[0m\u001b[0m\n\u001b[1;32m     20\u001b[0m \u001b[0;31m# This line uses the function to create a new dataset 'ds_SSH_monthly' by loading, concatenating, and cleaning the SSH_monthly_files.\u001b[0m\u001b[0;34m\u001b[0m\u001b[0;34m\u001b[0m\u001b[0m\n\u001b[0;32m---> 21\u001b[0;31m \u001b[0mds_SSH_monthly\u001b[0m \u001b[0;34m=\u001b[0m \u001b[0mds_load_concat\u001b[0m\u001b[0;34m(\u001b[0m\u001b[0mSSH_monthly_files\u001b[0m\u001b[0;34m,\u001b[0m \u001b[0mdim_concat\u001b[0m\u001b[0;34m=\u001b[0m\u001b[0;34m'time'\u001b[0m\u001b[0;34m,\u001b[0m \u001b[0mvars_to_drop\u001b[0m\u001b[0;34m=\u001b[0m\u001b[0;34m[\u001b[0m\u001b[0;34m'SSHNOIBC'\u001b[0m\u001b[0;34m,\u001b[0m \u001b[0;34m'SSHIBC'\u001b[0m\u001b[0;34m,\u001b[0m \u001b[0;34m'ETAN'\u001b[0m\u001b[0;34m]\u001b[0m\u001b[0;34m)\u001b[0m\u001b[0;34m\u001b[0m\u001b[0;34m\u001b[0m\u001b[0m\n\u001b[0m\u001b[1;32m     22\u001b[0m \u001b[0;34m\u001b[0m\u001b[0m\n\u001b[1;32m     23\u001b[0m \u001b[0;31m# This line merges two datasets 'ecco_grid' and 'ds_SSH_monthly' into a single dataset 'ecco_monthly_ds'.\u001b[0m\u001b[0;34m\u001b[0m\u001b[0;34m\u001b[0m\u001b[0m\n\u001b[1;32m     24\u001b[0m \u001b[0mecco_monthly_ds\u001b[0m \u001b[0;34m=\u001b[0m \u001b[0mxr\u001b[0m\u001b[0;34m.\u001b[0m\u001b[0mmerge\u001b[0m\u001b[0;34m(\u001b[0m\u001b[0;34m(\u001b[0m\u001b[0mecco_grid\u001b[0m\u001b[0;34m,\u001b[0m \u001b[0mds_SSH_monthly\u001b[0m\u001b[0;34m)\u001b[0m\u001b[0;34m)\u001b[0m\u001b[0;34m\u001b[0m\u001b[0;34m\u001b[0m\u001b[0m\n",
      "\u001b[0;32m/var/folders/bn/x1xx5m9j67911yqy0dlhj7qc0000gn/T/ipykernel_67064/1425216187.py\u001b[0m in \u001b[0;36m?\u001b[0;34m(file_list, dim_concat, vars_to_drop)\u001b[0m\n\u001b[1;32m     12\u001b[0m             \u001b[0;31m# For the first file, it opens it as a dataset and drops specified variables.\u001b[0m\u001b[0;34m\u001b[0m\u001b[0;34m\u001b[0m\u001b[0m\n\u001b[1;32m     13\u001b[0m         \u001b[0;32melse\u001b[0m\u001b[0;34m:\u001b[0m\u001b[0;34m\u001b[0m\u001b[0;34m\u001b[0m\u001b[0m\n\u001b[1;32m     14\u001b[0m             \u001b[0mds_curr\u001b[0m \u001b[0;34m=\u001b[0m \u001b[0mxr\u001b[0m\u001b[0;34m.\u001b[0m\u001b[0mopen_dataset\u001b[0m\u001b[0;34m(\u001b[0m\u001b[0mfile\u001b[0m\u001b[0;34m)\u001b[0m\u001b[0;34m\u001b[0m\u001b[0;34m\u001b[0m\u001b[0m\n\u001b[1;32m     15\u001b[0m             \u001b[0;31m# For subsequent files, it opens them as datasets, drops specified variables, and concatenates them.\u001b[0m\u001b[0;34m\u001b[0m\u001b[0;34m\u001b[0m\u001b[0m\n\u001b[0;32m---> 16\u001b[0;31m             \u001b[0mds_curr\u001b[0m \u001b[0;34m=\u001b[0m \u001b[0mds_curr\u001b[0m\u001b[0;34m.\u001b[0m\u001b[0mdrop_vars\u001b[0m\u001b[0;34m(\u001b[0m\u001b[0mvars_to_drop\u001b[0m\u001b[0;34m)\u001b[0m\u001b[0;34m\u001b[0m\u001b[0;34m\u001b[0m\u001b[0m\n\u001b[0m\u001b[1;32m     17\u001b[0m             \u001b[0mds_out\u001b[0m \u001b[0;34m=\u001b[0m \u001b[0mxr\u001b[0m\u001b[0;34m.\u001b[0m\u001b[0mconcat\u001b[0m\u001b[0;34m(\u001b[0m\u001b[0;34m(\u001b[0m\u001b[0mds_out\u001b[0m\u001b[0;34m,\u001b[0m \u001b[0mds_curr\u001b[0m\u001b[0;34m)\u001b[0m\u001b[0;34m,\u001b[0m \u001b[0mdim\u001b[0m\u001b[0;34m=\u001b[0m\u001b[0mdim_concat\u001b[0m\u001b[0;34m)\u001b[0m\u001b[0;34m\u001b[0m\u001b[0;34m\u001b[0m\u001b[0m\n\u001b[1;32m     18\u001b[0m     \u001b[0;32mreturn\u001b[0m \u001b[0mds_out\u001b[0m\u001b[0;34m\u001b[0m\u001b[0;34m\u001b[0m\u001b[0m\n",
      "\u001b[0;32m~/miniconda3/lib/python3.11/site-packages/xarray/core/dataset.py\u001b[0m in \u001b[0;36m?\u001b[0;34m(self, names, errors)\u001b[0m\n\u001b[1;32m   5771\u001b[0m             \u001b[0mnames\u001b[0m \u001b[0;34m=\u001b[0m \u001b[0;34m{\u001b[0m\u001b[0mnames\u001b[0m\u001b[0;34m}\u001b[0m\u001b[0;34m\u001b[0m\u001b[0;34m\u001b[0m\u001b[0m\n\u001b[1;32m   5772\u001b[0m         \u001b[0;32melse\u001b[0m\u001b[0;34m:\u001b[0m\u001b[0;34m\u001b[0m\u001b[0;34m\u001b[0m\u001b[0m\n\u001b[1;32m   5773\u001b[0m             \u001b[0mnames\u001b[0m \u001b[0;34m=\u001b[0m \u001b[0mset\u001b[0m\u001b[0;34m(\u001b[0m\u001b[0mnames\u001b[0m\u001b[0;34m)\u001b[0m\u001b[0;34m\u001b[0m\u001b[0;34m\u001b[0m\u001b[0m\n\u001b[1;32m   5774\u001b[0m         \u001b[0;32mif\u001b[0m \u001b[0merrors\u001b[0m \u001b[0;34m==\u001b[0m \u001b[0;34m\"raise\"\u001b[0m\u001b[0;34m:\u001b[0m\u001b[0;34m\u001b[0m\u001b[0;34m\u001b[0m\u001b[0m\n\u001b[0;32m-> 5775\u001b[0;31m             \u001b[0mself\u001b[0m\u001b[0;34m.\u001b[0m\u001b[0m_assert_all_in_dataset\u001b[0m\u001b[0;34m(\u001b[0m\u001b[0mnames\u001b[0m\u001b[0;34m)\u001b[0m\u001b[0;34m\u001b[0m\u001b[0;34m\u001b[0m\u001b[0m\n\u001b[0m\u001b[1;32m   5776\u001b[0m \u001b[0;34m\u001b[0m\u001b[0m\n\u001b[1;32m   5777\u001b[0m         \u001b[0;31m# GH6505\u001b[0m\u001b[0;34m\u001b[0m\u001b[0;34m\u001b[0m\u001b[0m\n\u001b[1;32m   5778\u001b[0m         \u001b[0mother_names\u001b[0m \u001b[0;34m=\u001b[0m \u001b[0mset\u001b[0m\u001b[0;34m(\u001b[0m\u001b[0;34m)\u001b[0m\u001b[0;34m\u001b[0m\u001b[0;34m\u001b[0m\u001b[0m\n",
      "\u001b[0;32m~/miniconda3/lib/python3.11/site-packages/xarray/core/dataset.py\u001b[0m in \u001b[0;36m?\u001b[0;34m(self, names, virtual_okay)\u001b[0m\n\u001b[1;32m   5649\u001b[0m         \u001b[0;32mif\u001b[0m \u001b[0mvirtual_okay\u001b[0m\u001b[0;34m:\u001b[0m\u001b[0;34m\u001b[0m\u001b[0;34m\u001b[0m\u001b[0m\n\u001b[1;32m   5650\u001b[0m             \u001b[0mbad_names\u001b[0m \u001b[0;34m-=\u001b[0m \u001b[0mself\u001b[0m\u001b[0;34m.\u001b[0m\u001b[0mvirtual_variables\u001b[0m\u001b[0;34m\u001b[0m\u001b[0;34m\u001b[0m\u001b[0m\n\u001b[1;32m   5651\u001b[0m         \u001b[0;32mif\u001b[0m \u001b[0mbad_names\u001b[0m\u001b[0;34m:\u001b[0m\u001b[0;34m\u001b[0m\u001b[0;34m\u001b[0m\u001b[0m\n\u001b[1;32m   5652\u001b[0m             \u001b[0mordered_bad_names\u001b[0m \u001b[0;34m=\u001b[0m \u001b[0;34m[\u001b[0m\u001b[0mname\u001b[0m \u001b[0;32mfor\u001b[0m \u001b[0mname\u001b[0m \u001b[0;32min\u001b[0m \u001b[0mnames\u001b[0m \u001b[0;32mif\u001b[0m \u001b[0mname\u001b[0m \u001b[0;32min\u001b[0m \u001b[0mbad_names\u001b[0m\u001b[0;34m]\u001b[0m\u001b[0;34m\u001b[0m\u001b[0;34m\u001b[0m\u001b[0m\n\u001b[0;32m-> 5653\u001b[0;31m             raise ValueError(\n\u001b[0m\u001b[1;32m   5654\u001b[0m                 \u001b[0;34mf\"These variables cannot be found in this dataset: {ordered_bad_names}\"\u001b[0m\u001b[0;34m\u001b[0m\u001b[0;34m\u001b[0m\u001b[0m\n\u001b[1;32m   5655\u001b[0m             )\n",
      "\u001b[0;31mValueError\u001b[0m: These variables cannot be found in this dataset: ['ETAN']"
     ]
    }
   ],
   "source": [
    "## Create a list of the files using glob\n",
    "# this line finds and stores a list of file paths matching the pattern '*SSH*MONTHLY*' in the directory specified by ECCO_dir.\n",
    "SSH_monthly_files = glob.glob(join(ECCO_dir,'*SSH*MONTHLY*','*.nc'))\n",
    "\n",
    "## This is a function that loads and concatenates multiple files into a single dataset while dropping specified variables.\n",
    "# loads each file into memory using open_dataset\n",
    "def ds_load_concat(file_list, dim_concat, vars_to_drop):\n",
    "    for count, file in enumerate(file_list):\n",
    "        if count == 0:\n",
    "            ds_out = xr.open_dataset(file)\n",
    "            ds_out = ds_out.drop_vars(vars_to_drop)\n",
    "            # For the first file, it opens it as a dataset and drops specified variables.\n",
    "        else:\n",
    "            ds_curr = xr.open_dataset(file)\n",
    "            # For subsequent files, it opens them as datasets, drops specified variables, and concatenates them.\n",
    "            ds_curr = ds_curr.drop_vars(vars_to_drop)\n",
    "            ds_out = xr.concat((ds_out, ds_curr), dim=dim_concat)\n",
    "    return ds_out\n",
    "\n",
    "# This line uses the function to create a new dataset 'ds_SSH_monthly' by loading, concatenating, and cleaning the SSH_monthly_files.\n",
    "ds_SSH_monthly = ds_load_concat(SSH_monthly_files, dim_concat='time', vars_to_drop=['SSHNOIBC', 'SSHIBC', 'ETAN'])\n",
    "\n",
    "# This line merges two datasets 'ecco_grid' and 'ds_SSH_monthly' into a single dataset 'ecco_monthly_ds'.\n",
    "ecco_monthly_ds = xr.merge((ecco_grid, ds_SSH_monthly))"
   ]
  },
  {
   "cell_type": "code",
   "execution_count": null,
   "id": "85a01fa6-22eb-42f7-ab64-6019ac4e3e56",
   "metadata": {},
   "outputs": [],
   "source": [
    "ecco_monthly_ds = ecco_monthly_ds.sortby('time')\n",
    "print(ecco_monthly_ds.time[0].values)\n",
    "print(ecco_monthly_ds.time[-1].values)"
   ]
  },
  {
   "cell_type": "markdown",
   "id": "2838575d-160b-4418-91d5-7a783ae63633",
   "metadata": {},
   "source": [
    "## Total ocean surface area"
   ]
  },
  {
   "cell_type": "code",
   "execution_count": null,
   "id": "f497df99-20b5-44e1-8701-9e5228856eda",
   "metadata": {},
   "outputs": [],
   "source": [
    "# Computing ocean mask based on wetness of grid cells\n",
    "# Using the 'ceiling' function to convert non-zero values to 1\n",
    "# and leaving 0 values unchanged, indicating dry cells\n",
    "ocean_mask = np.ceil(ecco_monthly_ds.hFacC)\n",
    "\n",
    "# Replacing non-one values in the ocean mask with NaN\n",
    "# This ensures that dry cells are represented as NaN in the mask\n",
    "ocean_mask = ocean_mask.where(ocean_mask==1, np.nan)"
   ]
  },
  {
   "cell_type": "code",
   "execution_count": null,
   "id": "727f76ef-6634-4b18-8948-d9c2b1092645",
   "metadata": {
    "scrolled": true
   },
   "outputs": [],
   "source": [
    "# Set the size and quality of the plot figure\n",
    "plt.figure(figsize=(12,5), dpi=90)\n",
    "\n",
    "# Plot the tiles of the ocean mask at vertical level k=0\n",
    "# 'isel' method - \"integer selection - used to select data based on the integer index\n",
    "ecco.plot_tiles(ocean_mask.isel(k=0), layout='latlon', rotate_to_latlon=True)\n",
    "\n",
    "# Select and round the model depth at k=0, then convert it to a string\n",
    "z = str((np.round(ecco_monthly_ds.Z.values[0])))\n",
    "\n",
    "# Set the super title of the plot with information about wet and dry areas at k=0\n",
    "plt.suptitle('Wet (1) /dry (0) mask for k=' + str(0) + ',   z=' + z + 'm');"
   ]
  },
  {
   "cell_type": "code",
   "execution_count": null,
   "id": "f46a1a6d-4100-475f-bbea-e32020d64e71",
   "metadata": {},
   "outputs": [],
   "source": [
    "# Select the land_c variable at index 0 in the 'k' dimension\n",
    "# This selects the first layer of the ocean mask for calculation\n",
    "# rA is the area of tracer grid cell\n",
    "total_ocean_area = np.sum(ecco_monthly_ds.rA*ocean_mask[0,:])\n",
    "\n",
    "# Print the total ocean surface area in square kilometers\n",
    "# Convert the printed value to scientific notation with 2 decimal places\n",
    "print('total ocean surface area (km^2) %.2E' % (total_ocean_area.values/1.0e6))"
   ]
  },
  {
   "cell_type": "markdown",
   "id": "2fc5a120-ec4a-40a6-90a8-641aa3527b4e",
   "metadata": {},
   "source": [
    "## DSSHA \n",
    "\n",
    "Dynamic sea surface height anomaly (DSSHA) is a measure of the deviation of the actual sea surface height from the geoid. It represents the temporal variations in the ocean's surface height caused by factors such as ocean currents, tides, winds, and other dynamic processes. DSSHA is an important parameter for studying ocean dynamics and is used in various oceanographic and climate studies to understand the changes in sea level due to these dynamic processes. It provides insights into ocean circulation patterns and the interaction between the ocean and the atmosphere.\n",
    "\n",
    "The geoid is the shape that the surface of the oceans would take under the influence of Earth's gravitational field alone, if other influences such as winds and tides were absent. In simpler terms, it can be considered as the shape that the ocean surface would have if it were extended through the continents, and it serves as a reference surface for measuring elevations and depths on Earth. "
   ]
  },
  {
   "cell_type": "code",
   "execution_count": null,
   "id": "41ba0e7b-1209-4243-a33a-e394051c641c",
   "metadata": {},
   "outputs": [],
   "source": [
    "# note no need to multiple RAC by land_c because SSH is nan over land\n",
    "SSH_global_mean_mon = (ecco_monthly_ds.SSH*ecco_monthly_ds.rA).sum(dim=['i','j','tile'])/total_ocean_area\n",
    "# remove time mean from time series\n",
    "SSH_global_mean_mon_anomaly = SSH_global_mean_mon-SSH_global_mean_mon.mean(dim='time')\n",
    "\n",
    "# unit label and plot\n",
    "plt.figure(figsize=(8,4), dpi= 90)\n",
    "plt.grid()\n",
    "SSH_global_mean_mon.attrs['units']='m'\n",
    "SSH_global_mean_mon.plot(color='k')\n",
    "\n",
    "plt.figure(figsize=(8,4), dpi= 90)\n",
    "SSH_global_mean_mon_anomaly.plot()\n",
    "plt.grid()\n",
    "plt.title('ECCO v4r4 Global Mean Sea Level Anomaly');\n",
    "plt.ylabel('m');\n",
    "plt.xlabel('year');"
   ]
  },
  {
   "cell_type": "markdown",
   "id": "22f77559-a24a-4c93-a6eb-75a2f32291f2",
   "metadata": {},
   "source": [
    "## Mean Dynamic Topography"
   ]
  },
  {
   "cell_type": "code",
   "execution_count": null,
   "id": "76360047-8063-40f2-97c9-245a9fec8051",
   "metadata": {},
   "outputs": [],
   "source": [
    "MDT = (ecco_monthly_ds.SSH - SSH_global_mean_mon).mean(dim=['time'])"
   ]
  },
  {
   "cell_type": "code",
   "execution_count": null,
   "id": "673de2a8-cfca-409b-82e4-a91cd712f252",
   "metadata": {},
   "outputs": [],
   "source": [
    "## Before plotting the MDT field remove its spatial mean since its spatial mean conveys no dynamically useful information.\n",
    "MDT_no_spatial_mean = MDT - MDT*ecco_monthly_ds.rA/total_ocean_area"
   ]
  },
  {
   "cell_type": "code",
   "execution_count": null,
   "id": "471a9b28-edc6-4f3e-9545-c68ac59d5b69",
   "metadata": {},
   "outputs": [],
   "source": [
    "plt.figure(figsize=(12,6), dpi= 90)\n",
    "MDT_no_spatial_mean = MDT_no_spatial_mean.where(ocean_mask[0,:] !=0)\n",
    "\n",
    "# Plot projected data onto a latitude-longitude grid\n",
    "# using the plot_proj_to_latlon_grid method of ecco dataset.\n",
    "# This method plots the data in MDT_no_spatial_mean multiplied by ocean_mask at k=0.\n",
    "\n",
    "ecco.plot_proj_to_latlon_grid(\n",
    "    ecco_monthly_ds.XC,  # X coordinates for the plot\n",
    "    ecco_monthly_ds.YC,  # Y coordinates for the plot\n",
    "    MDT_no_spatial_mean * ocean_mask.isel(k=0),  # Data to be plotted at k=0, masked by ocean_mask\n",
    "    user_lon_0=0,  # User-defined longitude\n",
    "    plot_type='pcolormesh',  # Type of plot, in this case, pseudocolor mesh\n",
    "    cmap='seismic',  # Color map for the plot\n",
    "    show_colorbar=True,  # Display colorbar on the plot\n",
    "    dx=2,  # Grid spacing in the x direction\n",
    "    dy=2  # Grid spacing in the y direction\n",
    ")\n",
    "\n",
    "plt.title('ECCO v4r4 Mean Dynamic Topography [m]');"
   ]
  },
  {
   "cell_type": "code",
   "execution_count": null,
   "id": "473316f0-be6b-47db-a5ce-4680d240e7f0",
   "metadata": {},
   "outputs": [],
   "source": []
  }
 ],
 "metadata": {
  "kernelspec": {
   "display_name": "Python 3 (ipykernel)",
   "language": "python",
   "name": "python3"
  },
  "language_info": {
   "codemirror_mode": {
    "name": "ipython",
    "version": 3
   },
   "file_extension": ".py",
   "mimetype": "text/x-python",
   "name": "python",
   "nbconvert_exporter": "python",
   "pygments_lexer": "ipython3",
   "version": "3.11.4"
  }
 },
 "nbformat": 4,
 "nbformat_minor": 5
}
